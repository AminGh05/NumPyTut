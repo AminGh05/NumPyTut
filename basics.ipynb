{
 "cells": [
  {
   "cell_type": "markdown",
   "id": "88a8a92f",
   "metadata": {},
   "source": [
    "# NumPy Basics\n",
    "\n",
    "Welcome to NumPy! This notebook covers the essential features and usage of NumPy, the fundamental package for scientific computing in Python. NumPy provides powerful tools for working with arrays, matrices, and mathematical functions efficiently."
   ]
  },
  {
   "cell_type": "markdown",
   "id": "ea278c1d",
   "metadata": {},
   "source": [
    "## Arrays\n",
    "\n",
    "Arrays are similar to Python lists but offer better performance and more functionality. The main type is **ndarray**, which can be created by passing an iterable to `numpy.array()`."
   ]
  },
  {
   "cell_type": "code",
   "execution_count": 1,
   "id": "7ef5fd12",
   "metadata": {},
   "outputs": [
    {
     "name": "stdout",
     "output_type": "stream",
     "text": [
      "[1 2 3 4 5]\n",
      "<class 'numpy.ndarray'>\n"
     ]
    }
   ],
   "source": [
    "import numpy as np\n",
    "\n",
    "arr = np.array([1, 2, 3, 4, 5])  # create a 1D array\n",
    "print(arr)  # print the array\n",
    "print(type(arr))  # print the type of the array"
   ]
  },
  {
   "cell_type": "markdown",
   "id": "2a40428e",
   "metadata": {},
   "source": [
    "## Dimensions\n",
    "\n",
    "Every array has an `ndim` attribute that shows its number of dimensions:\n",
    "- **0-dim:** Single element\n",
    "- **1-dim:** List of elements\n",
    "- **2-dim:** Matrix\n",
    "- **3-dim:** Tensor"
   ]
  },
  {
   "cell_type": "code",
   "execution_count": 2,
   "id": "b98f2c1e",
   "metadata": {},
   "outputs": [
    {
     "name": "stdout",
     "output_type": "stream",
     "text": [
      "Array:\n",
      "1\n",
      "Dimension: 0\n",
      "Array:\n",
      "[1 2 3 4 5]\n",
      "Dimension: 1\n",
      "Array:\n",
      "[[1 2 3]\n",
      " [4 5 6]]\n",
      "Dimension: 2\n",
      "Array:\n",
      "[[[1 2]\n",
      "  [3 4]]\n",
      "\n",
      " [[5 6]\n",
      "  [7 8]]]\n",
      "Dimension: 3\n"
     ]
    }
   ],
   "source": [
    "arr0 = np.array(1)  # 0-dim array\n",
    "arr1 = np.array((1, 2, 3, 4, 5))  # 1-dim array\n",
    "arr2 = np.array(((1, 2, 3), (4, 5, 6)))  # 2-dim array\n",
    "arr3 = np.array((((1, 2), (3, 4)), ((5, 6), (7, 8))))  # 3-dim array\n",
    "\n",
    "print(\"Array:\")\n",
    "print(arr0)\n",
    "print(\"Dimension:\", arr0.ndim)\n",
    "\n",
    "print(\"Array:\")\n",
    "print(arr1)\n",
    "print(\"Dimension:\", arr1.ndim)\n",
    "\n",
    "print(\"Array:\")\n",
    "print(arr2)\n",
    "print(\"Dimension:\", arr2.ndim)\n",
    "\n",
    "print(\"Array:\")\n",
    "print(arr3)\n",
    "print(\"Dimension:\", arr3.ndim)"
   ]
  },
  {
   "cell_type": "markdown",
   "id": "6d0c69a1",
   "metadata": {},
   "source": [
    "### Set dimension as a parameter\n",
    "\n",
    "You can set the dimension of an array regardless of the input using the `ndmin` parameter in `np.array()`."
   ]
  },
  {
   "cell_type": "code",
   "execution_count": 3,
   "id": "aa8c0868",
   "metadata": {},
   "outputs": [
    {
     "name": "stdout",
     "output_type": "stream",
     "text": [
      "[[[[[1 2 3 4]]]]]\n",
      "Dimension: 5\n"
     ]
    }
   ],
   "source": [
    "arr = np.array([1, 2, 3, 4], ndmin=5)  # create array with minimum 5 dimensions\n",
    "print(arr)  # print the array\n",
    "print(\"Dimension:\", arr.ndim)  # print the number of dimensions"
   ]
  },
  {
   "cell_type": "markdown",
   "id": "4595c533",
   "metadata": {},
   "source": [
    "## Indexing Arrays\n",
    "\n",
    "Indexes in NumPy start from 0, so `arr[0]` gives the first element in an array.\n",
    "\n",
    "For 2D arrays (matrices), use `arr[n, m]`. The same applies for higher dimensions."
   ]
  },
  {
   "cell_type": "code",
   "execution_count": 4,
   "id": "4a6f3f40",
   "metadata": {},
   "outputs": [
    {
     "name": "stdout",
     "output_type": "stream",
     "text": [
      "1\n",
      "7\n"
     ]
    }
   ],
   "source": [
    "arr = np.array([1, 2, 3, 4, 5])  # create a 1D array\n",
    "print(arr[0])  # print first element\n",
    "print(arr[2] + arr[3])  # sum third and fourth elements"
   ]
  },
  {
   "cell_type": "code",
   "execution_count": 5,
   "id": "14de4a0d",
   "metadata": {},
   "outputs": [
    {
     "name": "stdout",
     "output_type": "stream",
     "text": [
      "3\n"
     ]
    }
   ],
   "source": [
    "m = np.array([[1, 2, 3], [4, 5, 6]])  # create a 2D array\n",
    "print(m[0, 2])  # print element at 1st row, 3rd column"
   ]
  },
  {
   "cell_type": "markdown",
   "id": "88850ae2",
   "metadata": {},
   "source": [
    "**Note:** Negative indexing starts from the end of the array."
   ]
  },
  {
   "cell_type": "markdown",
   "id": "54903bdd",
   "metadata": {},
   "source": [
    "## Slicing\n",
    "\n",
    "You can slice arrays using the syntax `[start:end]`.\n",
    "- To specify a step: `[start:end:step]`\n",
    "\n",
    "Notes:\n",
    "- The index passed as end is not included in the slice\n",
    "- If start is omitted, it defaults to 0\n",
    "- If end is omitted, it defaults to the array length\n",
    "- If step is omitted, it defaults to 1\n",
    "\n",
    "You can also use **fancy indexing** to select specific indices."
   ]
  },
  {
   "cell_type": "code",
   "execution_count": 6,
   "id": "0bce19f7",
   "metadata": {},
   "outputs": [
    {
     "name": "stdout",
     "output_type": "stream",
     "text": [
      "[2 3 4 5]\n",
      "[1 2 3 4 5]\n",
      "[2 3 4 5]\n",
      "[1 3 5]\n"
     ]
    }
   ],
   "source": [
    "print(arr[1:5])  # elements from index 1 to 4\n",
    "print(arr[:5])  # elements from start to index 4\n",
    "print(arr[1:])  # elements from index 1 to end\n",
    "print(arr[::2])  # every second element"
   ]
  },
  {
   "cell_type": "code",
   "execution_count": 7,
   "id": "283e5995",
   "metadata": {},
   "outputs": [
    {
     "name": "stdout",
     "output_type": "stream",
     "text": [
      "[4 5 6]\n",
      "[[1 2]\n",
      " [4 5]]\n"
     ]
    }
   ],
   "source": [
    "print(m[1, :])  # all columns in second row\n",
    "print(m[:, 0:2])  # first two columns in all rows"
   ]
  },
  {
   "cell_type": "code",
   "execution_count": 8,
   "id": "2338df76",
   "metadata": {},
   "outputs": [
    {
     "name": "stdout",
     "output_type": "stream",
     "text": [
      "[2 4]\n"
     ]
    }
   ],
   "source": [
    "print(arr[[1, 3]])  # select elements at index 1 and 3"
   ]
  },
  {
   "cell_type": "markdown",
   "id": "52aecf9c",
   "metadata": {},
   "source": [
    "## Data Types\n",
    "\n",
    "NumPy has several data types:\n",
    "- i: integer\n",
    "- b: boolean\n",
    "- u: unsigned integer\n",
    "- f: float\n",
    "- c: complex float\n",
    "- M: datetime\n",
    "- O: object\n",
    "- S: string\n",
    "- V: void\n",
    "\n",
    "Use the `dtype` attribute to check the type of an array."
   ]
  },
  {
   "cell_type": "code",
   "execution_count": 9,
   "id": "e2b69f63",
   "metadata": {},
   "outputs": [
    {
     "name": "stdout",
     "output_type": "stream",
     "text": [
      "int64\n"
     ]
    }
   ],
   "source": [
    "print(arr.dtype)  # print the data type of the array"
   ]
  },
  {
   "cell_type": "markdown",
   "id": "ec7029a0",
   "metadata": {},
   "source": [
    "### Set the data type\n",
    "\n",
    "You can define the array with a preset type using the `dtype` parameter in `np.array()`.\n",
    "\n",
    "For *i*, *u*, *f*, *S*, and *U*, you can set the size as well.\n",
    "\n",
    "**Note:** If the type is not convertible, Python will raise an exception."
   ]
  },
  {
   "cell_type": "code",
   "execution_count": 10,
   "id": "f0feaea4",
   "metadata": {},
   "outputs": [
    {
     "name": "stdout",
     "output_type": "stream",
     "text": [
      "[b'1' b'2' b'3' b'4']\n",
      "|S1\n",
      "[1 2 3 4]\n",
      "int32\n"
     ]
    }
   ],
   "source": [
    "arr = np.array([1, 2, 3, 4], dtype='S')  # string type\n",
    "print(arr)\n",
    "print(arr.dtype)\n",
    "\n",
    "arr = np.array([1, 2, 3, 4], dtype='i4')  # 32-bit integer\n",
    "print(arr)\n",
    "print(arr.dtype)"
   ]
  },
  {
   "cell_type": "markdown",
   "id": "284e2bbc",
   "metadata": {},
   "source": [
    "#### Change the data type on a built array\n",
    "\n",
    "The best way to change the data type is to take a copy of the array with `astype()`."
   ]
  },
  {
   "cell_type": "code",
   "execution_count": 11,
   "id": "9db40aef",
   "metadata": {},
   "outputs": [
    {
     "name": "stdout",
     "output_type": "stream",
     "text": [
      "[1 2 3 4]\n",
      "int32\n"
     ]
    }
   ],
   "source": [
    "arr = np.array([1, 2, 3, 4])  # create a 1D array\n",
    "copy_arr = arr.astype('i')  # convert to integer\n",
    "print(copy_arr)\n",
    "print(copy_arr.dtype)"
   ]
  },
  {
   "cell_type": "markdown",
   "id": "4a7e448c",
   "metadata": {},
   "source": [
    "## Copy & View\n",
    "\n",
    "- A copy of an array owns its data and changes will not affect the original array.\n",
    "- A view does not own data and changes will affect the original array.\n",
    "\n",
    "**Note:** To check if the variable owns the data, use the `base` attribute."
   ]
  },
  {
   "cell_type": "code",
   "execution_count": 12,
   "id": "14eee594",
   "metadata": {},
   "outputs": [
    {
     "name": "stdout",
     "output_type": "stream",
     "text": [
      "[1 2 3 4]\n",
      "[0 2 3 4]\n",
      "None\n",
      "[0 2 3 4]\n"
     ]
    }
   ],
   "source": [
    "x = arr.copy()  # create a copy\n",
    "y = arr.view()  # create a view\n",
    "\n",
    "x[0] = 0  # change first element in copy\n",
    "print(arr)  # original array is unchanged\n",
    "\n",
    "y[0] = 0  # change first element in view\n",
    "print(arr)  # original array is changed\n",
    "\n",
    "print(x.base)  # None means owns data\n",
    "print(y.base)  # points to original array"
   ]
  },
  {
   "cell_type": "markdown",
   "id": "73f52281",
   "metadata": {},
   "source": [
    "## Shape\n",
    "\n",
    "NumPy arrays have a `shape` attribute that returns a tuple with the number of elements in each dimension."
   ]
  },
  {
   "cell_type": "code",
   "execution_count": 13,
   "id": "17d3572d",
   "metadata": {},
   "outputs": [
    {
     "name": "stdout",
     "output_type": "stream",
     "text": [
      "()\n",
      "(5,)\n",
      "(2, 3)\n",
      "(2, 2, 2)\n"
     ]
    }
   ],
   "source": [
    "print(arr0.shape)  # shape of 0-dim array\n",
    "print(arr1.shape)  # shape of 1-dim array\n",
    "print(arr2.shape)  # shape of 2-dim array\n",
    "print(arr3.shape)  # shape of 3-dim array"
   ]
  },
  {
   "cell_type": "markdown",
   "id": "ddcdf244",
   "metadata": {},
   "source": [
    "### Reshape\n",
    "\n",
    "You can add or remove dimensions or change the number of elements in each one.\n",
    "\n",
    "#### Can we reshape into any dimension?\n",
    "Yes, as long as the number of elements is appropriate for reshaping.\n",
    "E.g. 8 elements can be reshaped to 2x4.\n",
    "\n",
    "**Note:** `reshape` returns a view of the original array.\n",
    "**Note:** Only one argument can be -1 (unknown dimension) to be calculated automatically."
   ]
  },
  {
   "cell_type": "code",
   "execution_count": 14,
   "id": "e21f5a42",
   "metadata": {},
   "outputs": [
    {
     "name": "stdout",
     "output_type": "stream",
     "text": [
      "[[1 2 3]\n",
      " [4 5 6]\n",
      " [7 8 9]]\n",
      "2\n"
     ]
    }
   ],
   "source": [
    "arr = np.array([1, 2, 3, 4, 5, 6, 7, 8, 9])  # create a 1D array\n",
    "reshaped = arr.reshape(3, 3)  # reshape to 3x3\n",
    "print(reshaped)  # print reshaped array\n",
    "print(reshaped.ndim)  # print number of dimensions"
   ]
  },
  {
   "cell_type": "markdown",
   "id": "36947a39",
   "metadata": {},
   "source": [
    "## Iteration through arrays\n",
    "\n",
    "You can iterate through arrays with simple for loops. For higher dimensions, use nested loops.\n",
    "\n",
    "`nditer()` gives you 0-dim elements for any array dimension.\n",
    "\n",
    "The `op_dtypes` attribute converts the data type of each element during iteration. This operation needs extra space, so use `flags=['buffered']`.\n",
    "\n",
    "The method `ndenumerate()` returns each element with its index."
   ]
  },
  {
   "cell_type": "code",
   "execution_count": 15,
   "id": "d0c8d398",
   "metadata": {},
   "outputs": [
    {
     "name": "stdout",
     "output_type": "stream",
     "text": [
      "1\n",
      "2\n",
      "3\n",
      "4\n",
      "5\n",
      "6\n",
      "7\n",
      "8\n",
      "1\n",
      "3\n",
      "5\n",
      "7\n"
     ]
    }
   ],
   "source": [
    "for x in np.nditer(arr3):\n",
    "    print(x)  # print each element\n",
    "\n",
    "arr = np.array([[1, 2, 3, 4], [5, 6, 7, 8]])  # create a 2D array\n",
    "# choose element-wise skipping 1 of 2\n",
    "for x in np.nditer(arr[:, ::2]):\n",
    "    print(x)  # print every second element"
   ]
  },
  {
   "cell_type": "code",
   "execution_count": 16,
   "id": "61b2a739",
   "metadata": {},
   "outputs": [
    {
     "name": "stdout",
     "output_type": "stream",
     "text": [
      "(0, 0) : 1\n",
      "(0, 1) : 2\n",
      "(0, 2) : 3\n",
      "(0, 3) : 4\n",
      "(1, 0) : 5\n",
      "(1, 1) : 6\n",
      "(1, 2) : 7\n",
      "(1, 3) : 8\n"
     ]
    }
   ],
   "source": [
    "for idx, x in np.ndenumerate(arr):\n",
    "    print(idx, ':', x)  # print index and value"
   ]
  },
  {
   "cell_type": "markdown",
   "id": "8cc72cac",
   "metadata": {},
   "source": [
    "## Join\n",
    "\n",
    "Joining means putting contents of two or more arrays in a single array.\n",
    "\n",
    "Use the `concatenate()` function. The **axis** parameter is 0 by default."
   ]
  },
  {
   "cell_type": "code",
   "execution_count": 17,
   "id": "35c43789",
   "metadata": {},
   "outputs": [
    {
     "name": "stdout",
     "output_type": "stream",
     "text": [
      "[1 2 3 4 5 6]\n"
     ]
    }
   ],
   "source": [
    "a1 = np.array([1, 2, 3])  # first array\n",
    "a2 = np.array([4, 5, 6])  # second array\n",
    "a = np.concatenate((a1, a2))  # join arrays\n",
    "print(a)  # print result"
   ]
  },
  {
   "cell_type": "code",
   "execution_count": 18,
   "id": "b717ad5b",
   "metadata": {},
   "outputs": [
    {
     "name": "stdout",
     "output_type": "stream",
     "text": [
      "[[1 2 5 6]\n",
      " [3 4 7 8]]\n"
     ]
    }
   ],
   "source": [
    "# 2D arrays concatenation\n",
    "a1 = np.array([[1, 2], [3, 4]])  # first 2D array\n",
    "a2 = np.array([[5, 6], [7, 8]])  # second 2D array\n",
    "a = np.concatenate((a1, a2), axis=1)  # join along columns\n",
    "print(a)  # print result"
   ]
  },
  {
   "cell_type": "markdown",
   "id": "8e0c3bcf",
   "metadata": {},
   "source": [
    "### Stack\n",
    "\n",
    "Stacking is like `concatenate` but done along a new axis, e.g. several 1D arrays become 2D.\n",
    "\n",
    "- To stack along rows: `hstack()`\n",
    "- To stack along columns: `vstack()`\n",
    "- To stack along depth: `dstack()`"
   ]
  },
  {
   "cell_type": "code",
   "execution_count": 19,
   "id": "5867a2a8",
   "metadata": {},
   "outputs": [
    {
     "name": "stdout",
     "output_type": "stream",
     "text": [
      "[[1 4]\n",
      " [2 5]\n",
      " [3 6]]\n"
     ]
    }
   ],
   "source": [
    "a1 = np.array([1, 2, 3])  # first array\n",
    "a2 = np.array([4, 5, 6])  # second array\n",
    "a = np.stack((a1, a2), axis=1)  # stack along new axis\n",
    "print(a)  # print result"
   ]
  },
  {
   "cell_type": "code",
   "execution_count": 20,
   "id": "7e643846",
   "metadata": {},
   "outputs": [
    {
     "name": "stdout",
     "output_type": "stream",
     "text": [
      "[1 2 3 4 5 6]\n",
      "[[1 2 3]\n",
      " [4 5 6]]\n",
      "[[[1 4]\n",
      "  [2 5]\n",
      "  [3 6]]]\n"
     ]
    }
   ],
   "source": [
    "b = np.hstack((a1, a2))  # stack horizontally\n",
    "c = np.vstack((a1, a2))  # stack vertically\n",
    "d = np.dstack((a1, a2))  # stack along depth\n",
    "print(b)  # print horizontal stack\n",
    "print(c)  # print vertical stack\n",
    "print(d)  # print depth stack"
   ]
  },
  {
   "cell_type": "markdown",
   "id": "2257bc67",
   "metadata": {},
   "source": [
    "### Split\n",
    "\n",
    "Splitting is the reverse of joining.\n",
    "\n",
    "Use `array_split()` and pass the array and the number of splits you want. The `split()` method will not adjust the size if it's not suitable for splitting."
   ]
  },
  {
   "cell_type": "code",
   "execution_count": 21,
   "id": "ed36b9c4",
   "metadata": {},
   "outputs": [
    {
     "name": "stdout",
     "output_type": "stream",
     "text": [
      "[array([1, 2]), array([3, 4]), array([5, 6])]\n",
      "[1 2]\n",
      "[3 4]\n",
      "[5 6]\n",
      "[array([1, 2]), array([3, 4]), array([5]), array([6])]\n"
     ]
    }
   ],
   "source": [
    "arr = np.array([1, 2, 3, 4, 5, 6])  # create a 1D array\n",
    "splited = np.array_split(arr, 3)  # split into 3 parts\n",
    "print(splited)  # print all splits\n",
    "print(splited[0])  # print first split\n",
    "print(splited[1])  # print second split\n",
    "print(splited[2])  # print third split\n",
    "\n",
    "# this one has less than required but it will be handled\n",
    "incomp = np.array_split(arr, 4)  # split into 4 parts\n",
    "print(incomp)  # print result"
   ]
  },
  {
   "cell_type": "markdown",
   "id": "ad31bff9",
   "metadata": {},
   "source": [
    "#### Splitting 2D arrays\n",
    "\n",
    "`array_split` will split matrices along **axis=0** by default, but you can set the axis. You can also use `hsplit()` which is the reverse of `hstack()`."
   ]
  },
  {
   "cell_type": "code",
   "execution_count": 22,
   "id": "48f0de81",
   "metadata": {},
   "outputs": [
    {
     "name": "stdout",
     "output_type": "stream",
     "text": [
      "[array([[1, 2],\n",
      "       [3, 4]]), array([[5, 6],\n",
      "       [7, 8]]), array([[ 9, 10],\n",
      "       [11, 12]])]\n",
      "[array([[ 1],\n",
      "       [ 4],\n",
      "       [ 7],\n",
      "       [10],\n",
      "       [13],\n",
      "       [16]]), array([[ 2],\n",
      "       [ 5],\n",
      "       [ 8],\n",
      "       [11],\n",
      "       [14],\n",
      "       [17]]), array([[ 3],\n",
      "       [ 6],\n",
      "       [ 9],\n",
      "       [12],\n",
      "       [15],\n",
      "       [18]])]\n"
     ]
    }
   ],
   "source": [
    "m = np.array([[1, 2], [3, 4], [5, 6], [7, 8], [9, 10], [11, 12]])  # create a 2D array\n",
    "spm = np.array_split(m, 3)  # split rows\n",
    "print(spm)  # print result\n",
    "\n",
    "m = np.array([[1, 2, 3], [4, 5, 6], [7, 8, 9], [10, 11, 12], [13, 14, 15], [16, 17, 18]])  # another 2D array\n",
    "spm = np.array_split(m, 3, axis=1)  # split columns\n",
    "print(spm)  # print result\n",
    "\n",
    "# alt_spm = np.hsplit(m, 3)\n",
    "# print(alt_spm)  # alternative split"
   ]
  },
  {
   "cell_type": "markdown",
   "id": "7340ba9e",
   "metadata": {},
   "source": [
    "## Search\n",
    "\n",
    "Use `np.where()` with a boolean condition to get the indices where the condition is True.\n",
    "\n",
    "`searchsorted()` runs a binary search on a **sorted** array and returns the first index where the value can be inserted to keep the array sorted. By default, it searches from the left, but you can set `side='right'`."
   ]
  },
  {
   "cell_type": "code",
   "execution_count": 23,
   "id": "116bfadd",
   "metadata": {},
   "outputs": [
    {
     "name": "stdout",
     "output_type": "stream",
     "text": [
      "(array([1, 3, 5, 7]),)\n",
      "1\n",
      "[1 2 3]\n"
     ]
    }
   ],
   "source": [
    "arr = np.array([1, 2, 3, 4, 5, 6, 7, 8])  # create a 1D array\n",
    "evens = np.where(arr % 2 == 0)  # find indices of even numbers\n",
    "print(evens)  # print result\n",
    "\n",
    "# searchsorted example\n",
    "arr = np.array([6, 7, 8, 9])  # sorted array\n",
    "x = np.searchsorted(arr, 7)  # find index for 7\n",
    "print(x)  # print result\n",
    "\n",
    "# searchsorted with multiple values\n",
    "arr = np.array([1, 3, 5, 7])  # sorted array\n",
    "x = np.searchsorted(arr, [2, 4, 6], side='right')  # find indices for multiple values\n",
    "print(x)  # print result"
   ]
  },
  {
   "cell_type": "markdown",
   "id": "56b45f15",
   "metadata": {},
   "source": [
    "## Sort\n",
    "\n",
    "Sort elements in ascending order using `np.sort(arr)`.\n",
    "\n",
    "Note: If run on a 2D array, it will sort each row."
   ]
  },
  {
   "cell_type": "code",
   "execution_count": 24,
   "id": "fa35c58a",
   "metadata": {},
   "outputs": [
    {
     "name": "stdout",
     "output_type": "stream",
     "text": [
      "[0 1 2 3]\n",
      "[[2 3 4]\n",
      " [0 1 5]]\n"
     ]
    }
   ],
   "source": [
    "arr = np.array([3, 2, 0, 1])  # create a 1D array\n",
    "print(np.sort(arr))  # sort and print\n",
    "\n",
    "m = np.array([[3, 2, 4], [5, 0, 1]])  # create a 2D array\n",
    "print(np.sort(m))  # sort each row and print"
   ]
  },
  {
   "cell_type": "markdown",
   "id": "5e472af3",
   "metadata": {},
   "source": [
    "## Filter\n",
    "\n",
    "Use a list of booleans to filter indices in NumPy.\n",
    "\n",
    "**True** means keep the element, **False** means ignore it."
   ]
  },
  {
   "cell_type": "code",
   "execution_count": 25,
   "id": "928e6b5f",
   "metadata": {},
   "outputs": [
    {
     "name": "stdout",
     "output_type": "stream",
     "text": [
      "[41 43]\n",
      "[43 44]\n"
     ]
    }
   ],
   "source": [
    "arr = np.array([41, 42, 43, 44])  # create a 1D array\n",
    "x = [True, False, True, False]  # manual boolean list\n",
    "filter_arr = arr > 42  # condition-based boolean array\n",
    "a = arr[x]  # filter using manual list\n",
    "b = arr[filter_arr]  # filter using condition\n",
    "print(a)  # print filtered array (manual)\n",
    "print(b)  # print filtered array (condition)"
   ]
  },
  {
   "cell_type": "markdown",
   "id": "92855635",
   "metadata": {},
   "source": [
    "## Special Arrays\n",
    "\n",
    "NumPy provides functions to create special arrays:\n",
    "- `np.zeros()` creates an array of zeros\n",
    "- `np.ones()` creates an array of ones\n",
    "- `np.eye()` creates an identity matrix\n",
    "- `np.arange()` creates an array with an arithmetic sequence\n",
    "- `np.linspace()` creates an array with evenly spaced values over a specified interval\n",
    "\n",
    "Note: `arange` is like `range`, exclusive of the right endpoint\n",
    "Note: `linspace` splits the interval into the specified number of parts, inclusive of the right endpoint."
   ]
  },
  {
   "cell_type": "code",
   "execution_count": 26,
   "id": "8e802360",
   "metadata": {},
   "outputs": [
    {
     "name": "stdout",
     "output_type": "stream",
     "text": [
      "[[0. 0. 0.]\n",
      " [0. 0. 0.]\n",
      " [0. 0. 0.]]\n",
      "[[1. 1.]\n",
      " [1. 1.]]\n",
      "[[1. 0. 0. 0.]\n",
      " [0. 1. 0. 0.]\n",
      " [0. 0. 1. 0.]\n",
      " [0. 0. 0. 1.]]\n",
      "[1 4 7]\n",
      "[0.001 0.002 0.003 0.004 0.005 0.006 0.007 0.008 0.009 0.01  0.011 0.012\n",
      " 0.013 0.014 0.015 0.016 0.017 0.018 0.019 0.02  0.021 0.022 0.023 0.024\n",
      " 0.025 0.026 0.027 0.028 0.029 0.03  0.031 0.032 0.033 0.034 0.035 0.036\n",
      " 0.037 0.038 0.039 0.04  0.041 0.042 0.043 0.044 0.045 0.046 0.047 0.048\n",
      " 0.049 0.05  0.051 0.052 0.053 0.054 0.055 0.056 0.057 0.058 0.059 0.06\n",
      " 0.061 0.062 0.063 0.064 0.065 0.066 0.067 0.068 0.069 0.07  0.071 0.072\n",
      " 0.073 0.074 0.075 0.076 0.077 0.078 0.079 0.08  0.081 0.082 0.083 0.084\n",
      " 0.085 0.086 0.087 0.088 0.089 0.09  0.091 0.092 0.093 0.094 0.095 0.096\n",
      " 0.097 0.098 0.099 0.1  ]\n"
     ]
    }
   ],
   "source": [
    "a = np.zeros((3, 3))  # 3x3 array of zeros\n",
    "b = np.ones((2, 2))  # 2x2 array of ones\n",
    "c = np.eye(4)  # 4x4 identity matrix\n",
    "d = np.arange(1, 10, 3)  # array from 1 to 9 with step 3\n",
    "e = np.linspace(0.001, 0.1, 100)  # 100 values from 0.001 to 0.1\n",
    "print(a)  # print zeros array\n",
    "print(b)  # print ones array\n",
    "print(c)  # print identity matrix\n",
    "print(d)  # print arange array\n",
    "print(e)  # print linspace array"
   ]
  }
 ],
 "metadata": {
  "kernelspec": {
   "display_name": "NumPyTutorial",
   "language": "python",
   "name": "python3"
  },
  "language_info": {
   "codemirror_mode": {
    "name": "ipython",
    "version": 3
   },
   "file_extension": ".py",
   "mimetype": "text/x-python",
   "name": "python",
   "nbconvert_exporter": "python",
   "pygments_lexer": "ipython3",
   "version": "3.13.5"
  }
 },
 "nbformat": 4,
 "nbformat_minor": 5
}
